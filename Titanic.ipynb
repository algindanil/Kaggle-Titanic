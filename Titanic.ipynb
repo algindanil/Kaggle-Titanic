{
 "cells": [
  {
   "cell_type": "code",
   "execution_count": 1,
   "id": "089051a2",
   "metadata": {},
   "outputs": [
    {
     "name": "stdout",
     "output_type": "stream",
     "text": [
      "Collecting xgboost\n",
      "  Downloading xgboost-1.7.5-py3-none-win_amd64.whl (70.9 MB)\n",
      "                                              0.0/70.9 MB ? eta -:--:--\n",
      "                                              0.1/70.9 MB 2.6 MB/s eta 0:00:28\n",
      "                                              0.2/70.9 MB 2.9 MB/s eta 0:00:25\n",
      "                                              0.4/70.9 MB 3.4 MB/s eta 0:00:21\n",
      "                                              0.7/70.9 MB 4.6 MB/s eta 0:00:16\n",
      "                                              1.2/70.9 MB 6.0 MB/s eta 0:00:12\n",
      "                                              1.3/70.9 MB 6.1 MB/s eta 0:00:12\n",
      "     -                                        1.8/70.9 MB 6.4 MB/s eta 0:00:11\n",
      "     -                                        2.7/70.9 MB 8.1 MB/s eta 0:00:09\n",
      "     -                                        2.7/70.9 MB 8.1 MB/s eta 0:00:09\n",
      "     -                                        3.2/70.9 MB 7.8 MB/s eta 0:00:09\n",
      "     --                                       4.1/70.9 MB 9.4 MB/s eta 0:00:08\n",
      "     --                                       4.6/70.9 MB 9.2 MB/s eta 0:00:08\n",
      "     --                                       5.1/70.9 MB 9.5 MB/s eta 0:00:07\n",
      "     ---                                      5.6/70.9 MB 9.8 MB/s eta 0:00:07\n",
      "     ---                                      6.0/70.9 MB 9.9 MB/s eta 0:00:07\n",
      "     ---                                      6.5/70.9 MB 10.1 MB/s eta 0:00:07\n",
      "     ---                                      7.0/70.9 MB 10.2 MB/s eta 0:00:07\n",
      "     ----                                     7.5/70.9 MB 10.1 MB/s eta 0:00:07\n",
      "     ----                                     7.9/70.9 MB 10.3 MB/s eta 0:00:07\n",
      "     ----                                     8.4/70.9 MB 10.3 MB/s eta 0:00:07\n",
      "     ----                                     8.8/70.9 MB 10.3 MB/s eta 0:00:07\n",
      "     -----                                    9.3/70.9 MB 10.4 MB/s eta 0:00:06\n",
      "     -----                                    9.8/70.9 MB 10.4 MB/s eta 0:00:06\n",
      "     -----                                   10.3/70.9 MB 10.9 MB/s eta 0:00:06\n",
      "     -----                                   10.8/70.9 MB 11.7 MB/s eta 0:00:06\n",
      "     ------                                  11.2/70.9 MB 11.9 MB/s eta 0:00:06\n",
      "     ------                                  11.7/70.9 MB 12.4 MB/s eta 0:00:05\n",
      "     ------                                  12.2/70.9 MB 12.1 MB/s eta 0:00:05\n",
      "     ------                                  12.7/70.9 MB 11.9 MB/s eta 0:00:05\n",
      "     -------                                 13.1/70.9 MB 12.4 MB/s eta 0:00:05\n",
      "     -------                                 13.6/70.9 MB 12.1 MB/s eta 0:00:05\n",
      "     -------                                 14.1/70.9 MB 11.9 MB/s eta 0:00:05\n",
      "     -------                                 14.6/70.9 MB 11.7 MB/s eta 0:00:05\n",
      "     --------                                15.3/70.9 MB 11.7 MB/s eta 0:00:05\n",
      "     --------                                15.7/70.9 MB 11.7 MB/s eta 0:00:05\n",
      "     ---------                               16.5/70.9 MB 11.7 MB/s eta 0:00:05\n",
      "     ---------                               16.9/70.9 MB 11.7 MB/s eta 0:00:05\n",
      "     ---------                               17.4/70.9 MB 11.7 MB/s eta 0:00:05\n",
      "     ---------                               17.9/70.9 MB 11.7 MB/s eta 0:00:05\n",
      "     ----------                              18.4/70.9 MB 11.7 MB/s eta 0:00:05\n",
      "     ----------                              18.9/70.9 MB 11.9 MB/s eta 0:00:05\n",
      "     ----------                              19.3/70.9 MB 11.7 MB/s eta 0:00:05\n",
      "     ----------                              19.8/70.9 MB 11.7 MB/s eta 0:00:05\n",
      "     -----------                             20.3/70.9 MB 11.9 MB/s eta 0:00:05\n",
      "     -----------                             20.8/70.9 MB 11.7 MB/s eta 0:00:05\n",
      "     -----------                             21.3/70.9 MB 11.9 MB/s eta 0:00:05\n",
      "     -----------                             21.7/70.9 MB 11.7 MB/s eta 0:00:05\n",
      "     ------------                            22.2/70.9 MB 11.9 MB/s eta 0:00:05\n",
      "     ------------                            22.7/70.9 MB 11.9 MB/s eta 0:00:05\n",
      "     ------------                            23.2/70.9 MB 11.7 MB/s eta 0:00:05\n",
      "     -------------                           23.7/70.9 MB 11.7 MB/s eta 0:00:05\n",
      "     -------------                           24.2/70.9 MB 11.7 MB/s eta 0:00:05\n",
      "     -------------                           24.6/70.9 MB 11.9 MB/s eta 0:00:04\n",
      "     -------------                           25.1/70.9 MB 11.9 MB/s eta 0:00:04\n",
      "     --------------                          25.6/70.9 MB 11.7 MB/s eta 0:00:04\n",
      "     --------------                          26.1/70.9 MB 11.9 MB/s eta 0:00:04\n",
      "     --------------                          26.5/70.9 MB 11.7 MB/s eta 0:00:04\n",
      "     --------------                          27.0/70.9 MB 11.9 MB/s eta 0:00:04\n",
      "     ---------------                         27.5/70.9 MB 11.9 MB/s eta 0:00:04\n",
      "     ---------------                         28.0/70.9 MB 11.7 MB/s eta 0:00:04\n",
      "     ---------------                         28.4/70.9 MB 11.7 MB/s eta 0:00:04\n",
      "     ---------------                         28.9/70.9 MB 11.9 MB/s eta 0:00:04\n",
      "     ----------------                        29.4/70.9 MB 11.9 MB/s eta 0:00:04\n",
      "     ----------------                        29.8/70.9 MB 11.9 MB/s eta 0:00:04\n",
      "     ----------------                        30.3/70.9 MB 11.7 MB/s eta 0:00:04\n",
      "     ----------------                        30.8/70.9 MB 11.9 MB/s eta 0:00:04\n",
      "     -----------------                       31.3/70.9 MB 11.9 MB/s eta 0:00:04\n",
      "     -----------------                       31.8/70.9 MB 11.7 MB/s eta 0:00:04\n",
      "     -----------------                       32.2/70.9 MB 11.9 MB/s eta 0:00:04\n",
      "     -----------------                       32.7/70.9 MB 11.7 MB/s eta 0:00:04\n",
      "     ------------------                      33.2/70.9 MB 11.9 MB/s eta 0:00:04\n",
      "     ------------------                      33.7/70.9 MB 11.9 MB/s eta 0:00:04\n",
      "     ------------------                      34.2/70.9 MB 11.7 MB/s eta 0:00:04\n",
      "     -------------------                     34.7/70.9 MB 11.9 MB/s eta 0:00:04\n",
      "     -------------------                     35.1/70.9 MB 11.7 MB/s eta 0:00:04\n",
      "     -------------------                     35.6/70.9 MB 11.9 MB/s eta 0:00:03\n",
      "     -------------------                     36.3/70.9 MB 11.9 MB/s eta 0:00:03\n",
      "     --------------------                    36.8/70.9 MB 11.5 MB/s eta 0:00:03\n",
      "     --------------------                    37.3/70.9 MB 11.9 MB/s eta 0:00:03\n",
      "     --------------------                    37.8/70.9 MB 11.7 MB/s eta 0:00:03\n",
      "     ---------------------                   38.3/70.9 MB 11.7 MB/s eta 0:00:03\n",
      "     ---------------------                   38.7/70.9 MB 11.9 MB/s eta 0:00:03\n",
      "     ---------------------                   39.2/70.9 MB 11.9 MB/s eta 0:00:03\n",
      "     ---------------------                   39.7/70.9 MB 11.9 MB/s eta 0:00:03\n",
      "     ----------------------                  40.2/70.9 MB 11.9 MB/s eta 0:00:03\n",
      "     ----------------------                  40.7/70.9 MB 11.9 MB/s eta 0:00:03\n",
      "     ----------------------                  41.2/70.9 MB 12.1 MB/s eta 0:00:03\n",
      "     ----------------------                  41.6/70.9 MB 11.9 MB/s eta 0:00:03\n",
      "     -----------------------                 42.1/70.9 MB 11.9 MB/s eta 0:00:03\n",
      "     -----------------------                 42.6/70.9 MB 11.9 MB/s eta 0:00:03\n",
      "     -----------------------                 43.1/70.9 MB 11.9 MB/s eta 0:00:03\n",
      "     -----------------------                 43.6/70.9 MB 12.1 MB/s eta 0:00:03\n",
      "     ------------------------                44.1/70.9 MB 11.9 MB/s eta 0:00:03\n",
      "     ------------------------                44.5/70.9 MB 11.9 MB/s eta 0:00:03\n",
      "     ------------------------                45.0/70.9 MB 11.9 MB/s eta 0:00:03\n",
      "     -------------------------               45.5/70.9 MB 11.9 MB/s eta 0:00:03\n",
      "     -------------------------               46.0/70.9 MB 12.1 MB/s eta 0:00:03\n",
      "     -------------------------               46.5/70.9 MB 11.9 MB/s eta 0:00:03\n",
      "     -------------------------               47.0/70.9 MB 11.9 MB/s eta 0:00:03\n",
      "     --------------------------              47.4/70.9 MB 11.9 MB/s eta 0:00:02\n",
      "     --------------------------              47.9/70.9 MB 11.9 MB/s eta 0:00:02\n",
      "     --------------------------              48.4/70.9 MB 12.1 MB/s eta 0:00:02\n",
      "     --------------------------              48.9/70.9 MB 11.9 MB/s eta 0:00:02\n",
      "     ---------------------------             49.4/70.9 MB 11.9 MB/s eta 0:00:02\n",
      "     ---------------------------             49.8/70.9 MB 11.9 MB/s eta 0:00:02\n",
      "     ---------------------------             50.3/70.9 MB 11.9 MB/s eta 0:00:02\n",
      "     ---------------------------             50.8/70.9 MB 12.1 MB/s eta 0:00:02\n",
      "     ----------------------------            51.3/70.9 MB 11.9 MB/s eta 0:00:02\n",
      "     ----------------------------            51.8/70.9 MB 11.9 MB/s eta 0:00:02\n",
      "     ----------------------------            52.3/70.9 MB 12.1 MB/s eta 0:00:02\n",
      "     ----------------------------            52.7/70.9 MB 11.9 MB/s eta 0:00:02\n",
      "     -----------------------------           53.2/70.9 MB 12.1 MB/s eta 0:00:02\n",
      "     -----------------------------           53.7/70.9 MB 11.9 MB/s eta 0:00:02\n",
      "     -----------------------------           54.2/70.9 MB 11.9 MB/s eta 0:00:02\n",
      "     ------------------------------          54.7/70.9 MB 11.9 MB/s eta 0:00:02\n",
      "     ------------------------------          55.2/70.9 MB 11.9 MB/s eta 0:00:02\n",
      "     ------------------------------          55.6/70.9 MB 11.9 MB/s eta 0:00:02\n",
      "     ------------------------------          56.1/70.9 MB 11.9 MB/s eta 0:00:02\n",
      "     -------------------------------         56.6/70.9 MB 11.9 MB/s eta 0:00:02\n",
      "     -------------------------------         57.1/70.9 MB 12.1 MB/s eta 0:00:02\n",
      "     -------------------------------         57.6/70.9 MB 11.9 MB/s eta 0:00:02\n",
      "     -------------------------------         58.1/70.9 MB 11.9 MB/s eta 0:00:02\n",
      "     --------------------------------        58.5/70.9 MB 11.9 MB/s eta 0:00:02\n",
      "     --------------------------------        59.0/70.9 MB 11.9 MB/s eta 0:00:02\n",
      "     --------------------------------        59.5/70.9 MB 12.1 MB/s eta 0:00:01\n",
      "     --------------------------------        60.0/70.9 MB 11.9 MB/s eta 0:00:01\n",
      "     ---------------------------------       60.5/70.9 MB 11.9 MB/s eta 0:00:01\n",
      "     ---------------------------------       60.9/70.9 MB 11.9 MB/s eta 0:00:01\n",
      "     ---------------------------------       61.4/70.9 MB 11.9 MB/s eta 0:00:01\n",
      "     ----------------------------------      61.9/70.9 MB 12.1 MB/s eta 0:00:01\n",
      "     ----------------------------------      62.4/70.9 MB 11.9 MB/s eta 0:00:01\n",
      "     ----------------------------------      62.8/70.9 MB 11.7 MB/s eta 0:00:01\n",
      "     ----------------------------------      63.0/70.9 MB 11.5 MB/s eta 0:00:01\n",
      "     ----------------------------------      63.0/70.9 MB 11.1 MB/s eta 0:00:01\n",
      "     -----------------------------------     63.7/70.9 MB 11.3 MB/s eta 0:00:01\n",
      "     -----------------------------------     63.8/70.9 MB 10.9 MB/s eta 0:00:01\n",
      "     -----------------------------------     64.2/70.9 MB 10.7 MB/s eta 0:00:01\n",
      "     -----------------------------------     64.6/70.9 MB 10.7 MB/s eta 0:00:01\n",
      "     -----------------------------------     65.1/70.9 MB 10.7 MB/s eta 0:00:01\n",
      "     ------------------------------------    65.5/70.9 MB 10.6 MB/s eta 0:00:01\n",
      "     ------------------------------------    65.7/70.9 MB 10.6 MB/s eta 0:00:01\n",
      "     ------------------------------------    66.3/70.9 MB 10.4 MB/s eta 0:00:01\n",
      "     ------------------------------------    66.6/70.9 MB 10.4 MB/s eta 0:00:01\n",
      "     ------------------------------------    66.9/70.9 MB 10.1 MB/s eta 0:00:01\n",
      "     -------------------------------------    67.2/70.9 MB 9.9 MB/s eta 0:00:01\n",
      "     --------------------------------------   67.6/70.9 MB 9.9 MB/s eta 0:00:01\n",
      "     --------------------------------------   67.8/70.9 MB 9.8 MB/s eta 0:00:01\n",
      "     --------------------------------------   67.9/70.9 MB 9.8 MB/s eta 0:00:01\n",
      "     --------------------------------------   68.4/70.9 MB 9.5 MB/s eta 0:00:01\n",
      "     --------------------------------------   68.6/70.9 MB 9.2 MB/s eta 0:00:01\n",
      "     --------------------------------------   68.9/70.9 MB 9.1 MB/s eta 0:00:01\n",
      "     --------------------------------------   69.1/70.9 MB 8.8 MB/s eta 0:00:01\n",
      "     ---------------------------------------  69.3/70.9 MB 8.7 MB/s eta 0:00:01\n",
      "     ---------------------------------------  69.6/70.9 MB 8.6 MB/s eta 0:00:01\n",
      "     ---------------------------------------  69.8/70.9 MB 8.4 MB/s eta 0:00:01\n",
      "     ---------------------------------------  70.0/70.9 MB 8.3 MB/s eta 0:00:01\n",
      "     ---------------------------------------  70.3/70.9 MB 8.2 MB/s eta 0:00:01\n",
      "     ---------------------------------------  70.5/70.9 MB 8.0 MB/s eta 0:00:01\n",
      "     ---------------------------------------  70.8/70.9 MB 7.9 MB/s eta 0:00:01\n",
      "     ---------------------------------------  70.9/70.9 MB 7.8 MB/s eta 0:00:01\n",
      "     ---------------------------------------  70.9/70.9 MB 7.8 MB/s eta 0:00:01\n",
      "     ---------------------------------------  70.9/70.9 MB 7.8 MB/s eta 0:00:01\n",
      "     ---------------------------------------  70.9/70.9 MB 7.8 MB/s eta 0:00:01\n",
      "     ---------------------------------------  70.9/70.9 MB 7.8 MB/s eta 0:00:01\n",
      "     ---------------------------------------  70.9/70.9 MB 7.8 MB/s eta 0:00:01\n",
      "     ---------------------------------------  70.9/70.9 MB 7.8 MB/s eta 0:00:01\n",
      "     ---------------------------------------  70.9/70.9 MB 7.8 MB/s eta 0:00:01\n",
      "     ---------------------------------------- 70.9/70.9 MB 6.0 MB/s eta 0:00:00\n",
      "Requirement already satisfied: numpy in e:\\virtual environments\\machine_learning\\lib\\site-packages (from xgboost) (1.23.5)\n",
      "Requirement already satisfied: scipy in e:\\virtual environments\\machine_learning\\lib\\site-packages (from xgboost) (1.10.1)\n",
      "Installing collected packages: xgboost\n",
      "Successfully installed xgboost-1.7.5\n"
     ]
    }
   ],
   "source": [
    "!pip install xgboost "
   ]
  },
  {
   "cell_type": "code",
   "execution_count": 3,
   "id": "a6e9b6fe",
   "metadata": {
    "scrolled": true
   },
   "outputs": [
    {
     "name": "stdout",
     "output_type": "stream",
     "text": [
      "Collecting seaborn\n",
      "  Using cached seaborn-0.12.2-py3-none-any.whl (293 kB)\n",
      "Requirement already satisfied: numpy!=1.24.0,>=1.17 in e:\\virtual environments\\machine_learning\\lib\\site-packages (from seaborn) (1.23.5)\n",
      "Requirement already satisfied: pandas>=0.25 in e:\\virtual environments\\machine_learning\\lib\\site-packages (from seaborn) (2.0.0)\n",
      "Requirement already satisfied: matplotlib!=3.6.1,>=3.1 in e:\\virtual environments\\machine_learning\\lib\\site-packages (from seaborn) (3.7.1)\n",
      "Requirement already satisfied: contourpy>=1.0.1 in e:\\virtual environments\\machine_learning\\lib\\site-packages (from matplotlib!=3.6.1,>=3.1->seaborn) (1.0.7)\n",
      "Requirement already satisfied: cycler>=0.10 in e:\\virtual environments\\machine_learning\\lib\\site-packages (from matplotlib!=3.6.1,>=3.1->seaborn) (0.11.0)\n",
      "Requirement already satisfied: fonttools>=4.22.0 in e:\\virtual environments\\machine_learning\\lib\\site-packages (from matplotlib!=3.6.1,>=3.1->seaborn) (4.39.3)\n",
      "Requirement already satisfied: kiwisolver>=1.0.1 in e:\\virtual environments\\machine_learning\\lib\\site-packages (from matplotlib!=3.6.1,>=3.1->seaborn) (1.4.4)\n",
      "Requirement already satisfied: packaging>=20.0 in e:\\virtual environments\\machine_learning\\lib\\site-packages (from matplotlib!=3.6.1,>=3.1->seaborn) (23.1)\n",
      "Requirement already satisfied: pillow>=6.2.0 in e:\\virtual environments\\machine_learning\\lib\\site-packages (from matplotlib!=3.6.1,>=3.1->seaborn) (9.5.0)\n",
      "Requirement already satisfied: pyparsing>=2.3.1 in e:\\virtual environments\\machine_learning\\lib\\site-packages (from matplotlib!=3.6.1,>=3.1->seaborn) (3.0.9)\n",
      "Requirement already satisfied: python-dateutil>=2.7 in e:\\virtual environments\\machine_learning\\lib\\site-packages (from matplotlib!=3.6.1,>=3.1->seaborn) (2.8.2)\n",
      "Requirement already satisfied: pytz>=2020.1 in e:\\virtual environments\\machine_learning\\lib\\site-packages (from pandas>=0.25->seaborn) (2023.3)\n",
      "Requirement already satisfied: tzdata>=2022.1 in e:\\virtual environments\\machine_learning\\lib\\site-packages (from pandas>=0.25->seaborn) (2023.3)\n",
      "Requirement already satisfied: six>=1.5 in e:\\virtual environments\\machine_learning\\lib\\site-packages (from python-dateutil>=2.7->matplotlib!=3.6.1,>=3.1->seaborn) (1.16.0)\n",
      "Installing collected packages: seaborn\n",
      "Successfully installed seaborn-0.12.2\n"
     ]
    }
   ],
   "source": [
    "!pip install seaborn"
   ]
  },
  {
   "cell_type": "code",
   "execution_count": 1,
   "id": "e17bf26b",
   "metadata": {},
   "outputs": [],
   "source": [
    "import numpy as np\n",
    "import pandas as pd\n",
    "import seaborn as sns\n",
    "import matplotlib.pyplot as plt\n",
    "\n",
    "from xgboost import XGBClassifier"
   ]
  },
  {
   "cell_type": "code",
   "execution_count": 2,
   "id": "f46f15d3",
   "metadata": {},
   "outputs": [
    {
     "data": {
      "text/html": [
       "<div>\n",
       "<style scoped>\n",
       "    .dataframe tbody tr th:only-of-type {\n",
       "        vertical-align: middle;\n",
       "    }\n",
       "\n",
       "    .dataframe tbody tr th {\n",
       "        vertical-align: top;\n",
       "    }\n",
       "\n",
       "    .dataframe thead th {\n",
       "        text-align: right;\n",
       "    }\n",
       "</style>\n",
       "<table border=\"1\" class=\"dataframe\">\n",
       "  <thead>\n",
       "    <tr style=\"text-align: right;\">\n",
       "      <th></th>\n",
       "      <th>PassengerId</th>\n",
       "      <th>Survived</th>\n",
       "      <th>Pclass</th>\n",
       "      <th>Age</th>\n",
       "      <th>SibSp</th>\n",
       "      <th>Parch</th>\n",
       "      <th>Fare</th>\n",
       "    </tr>\n",
       "  </thead>\n",
       "  <tbody>\n",
       "    <tr>\n",
       "      <th>count</th>\n",
       "      <td>891.000000</td>\n",
       "      <td>891.000000</td>\n",
       "      <td>891.000000</td>\n",
       "      <td>714.000000</td>\n",
       "      <td>891.000000</td>\n",
       "      <td>891.000000</td>\n",
       "      <td>891.000000</td>\n",
       "    </tr>\n",
       "    <tr>\n",
       "      <th>mean</th>\n",
       "      <td>446.000000</td>\n",
       "      <td>0.383838</td>\n",
       "      <td>2.308642</td>\n",
       "      <td>29.699118</td>\n",
       "      <td>0.523008</td>\n",
       "      <td>0.381594</td>\n",
       "      <td>32.204208</td>\n",
       "    </tr>\n",
       "    <tr>\n",
       "      <th>std</th>\n",
       "      <td>257.353842</td>\n",
       "      <td>0.486592</td>\n",
       "      <td>0.836071</td>\n",
       "      <td>14.526497</td>\n",
       "      <td>1.102743</td>\n",
       "      <td>0.806057</td>\n",
       "      <td>49.693429</td>\n",
       "    </tr>\n",
       "    <tr>\n",
       "      <th>min</th>\n",
       "      <td>1.000000</td>\n",
       "      <td>0.000000</td>\n",
       "      <td>1.000000</td>\n",
       "      <td>0.420000</td>\n",
       "      <td>0.000000</td>\n",
       "      <td>0.000000</td>\n",
       "      <td>0.000000</td>\n",
       "    </tr>\n",
       "    <tr>\n",
       "      <th>25%</th>\n",
       "      <td>223.500000</td>\n",
       "      <td>0.000000</td>\n",
       "      <td>2.000000</td>\n",
       "      <td>20.125000</td>\n",
       "      <td>0.000000</td>\n",
       "      <td>0.000000</td>\n",
       "      <td>7.910400</td>\n",
       "    </tr>\n",
       "    <tr>\n",
       "      <th>50%</th>\n",
       "      <td>446.000000</td>\n",
       "      <td>0.000000</td>\n",
       "      <td>3.000000</td>\n",
       "      <td>28.000000</td>\n",
       "      <td>0.000000</td>\n",
       "      <td>0.000000</td>\n",
       "      <td>14.454200</td>\n",
       "    </tr>\n",
       "    <tr>\n",
       "      <th>75%</th>\n",
       "      <td>668.500000</td>\n",
       "      <td>1.000000</td>\n",
       "      <td>3.000000</td>\n",
       "      <td>38.000000</td>\n",
       "      <td>1.000000</td>\n",
       "      <td>0.000000</td>\n",
       "      <td>31.000000</td>\n",
       "    </tr>\n",
       "    <tr>\n",
       "      <th>max</th>\n",
       "      <td>891.000000</td>\n",
       "      <td>1.000000</td>\n",
       "      <td>3.000000</td>\n",
       "      <td>80.000000</td>\n",
       "      <td>8.000000</td>\n",
       "      <td>6.000000</td>\n",
       "      <td>512.329200</td>\n",
       "    </tr>\n",
       "  </tbody>\n",
       "</table>\n",
       "</div>"
      ],
      "text/plain": [
       "       PassengerId    Survived      Pclass         Age       SibSp   \n",
       "count   891.000000  891.000000  891.000000  714.000000  891.000000  \\\n",
       "mean    446.000000    0.383838    2.308642   29.699118    0.523008   \n",
       "std     257.353842    0.486592    0.836071   14.526497    1.102743   \n",
       "min       1.000000    0.000000    1.000000    0.420000    0.000000   \n",
       "25%     223.500000    0.000000    2.000000   20.125000    0.000000   \n",
       "50%     446.000000    0.000000    3.000000   28.000000    0.000000   \n",
       "75%     668.500000    1.000000    3.000000   38.000000    1.000000   \n",
       "max     891.000000    1.000000    3.000000   80.000000    8.000000   \n",
       "\n",
       "            Parch        Fare  \n",
       "count  891.000000  891.000000  \n",
       "mean     0.381594   32.204208  \n",
       "std      0.806057   49.693429  \n",
       "min      0.000000    0.000000  \n",
       "25%      0.000000    7.910400  \n",
       "50%      0.000000   14.454200  \n",
       "75%      0.000000   31.000000  \n",
       "max      6.000000  512.329200  "
      ]
     },
     "execution_count": 2,
     "metadata": {},
     "output_type": "execute_result"
    }
   ],
   "source": [
    "# load the training dataset\n",
    "df = pd.read_csv('Data/train.csv')\n",
    "\n",
    "# overview of the data\n",
    "df.describe()"
   ]
  },
  {
   "cell_type": "code",
   "execution_count": 3,
   "id": "98f4946a",
   "metadata": {},
   "outputs": [
    {
     "name": "stdout",
     "output_type": "stream",
     "text": [
      "PassengerId      0\n",
      "Survived         0\n",
      "Pclass           0\n",
      "Name             0\n",
      "Sex              0\n",
      "Age            177\n",
      "SibSp            0\n",
      "Parch            0\n",
      "Ticket           0\n",
      "Fare             0\n",
      "Cabin          687\n",
      "Embarked         2\n",
      "dtype: int64\n"
     ]
    }
   ],
   "source": [
    "# let's see with how much null data we're dealing with\n",
    "print(df.isna().sum())"
   ]
  },
  {
   "cell_type": "markdown",
   "id": "a25ba8c5",
   "metadata": {},
   "source": [
    "The 'Cabin' column has $ \\frac{687}{891} \\approx 77\\% $ null data so I'll discard this column"
   ]
  },
  {
   "cell_type": "code",
   "execution_count": 4,
   "id": "68aa4dd1",
   "metadata": {},
   "outputs": [],
   "source": [
    "df.drop(columns='Cabin', axis=1, inplace=True)\n",
    "\n",
    "# don't forget to drop the ID\n",
    "df.drop(columns='PassengerId', axis=1, inplace=True)\n"
   ]
  },
  {
   "cell_type": "markdown",
   "id": "4d88ab9c",
   "metadata": {},
   "source": [
    "Now I have to fill the missing 'Age' values. Let's look at the distribution of the 'Age' column to choose the way in which we'll fill the missing data"
   ]
  },
  {
   "cell_type": "code",
   "execution_count": 5,
   "id": "ef675ad7",
   "metadata": {},
   "outputs": [
    {
     "data": {
      "text/plain": [
       "<Axes: >"
      ]
     },
     "execution_count": 5,
     "metadata": {},
     "output_type": "execute_result"
    },
    {
     "data": {
      "image/png": "[encoded data removed]",
      "text/plain": [
       "<Figure size 640x480 with 1 Axes>"
      ]
     },
     "metadata": {},
     "output_type": "display_data"
    }
   ],
   "source": [
    "sns.boxplot(df.Age)"
   ]
  },
  {
   "cell_type": "code",
   "execution_count": 6,
   "id": "3a12e413",
   "metadata": {},
   "outputs": [
    {
     "data": {
      "text/plain": [
       "<seaborn.axisgrid.FacetGrid at 0x2d144a08c10>"
      ]
     },
     "execution_count": 6,
     "metadata": {},
     "output_type": "execute_result"
    },
    {
     "data": {
      "image/png": "[encoded data removed]",
      "text/plain": [
       "<Figure size 500x500 with 1 Axes>"
      ]
     },
     "metadata": {},
     "output_type": "display_data"
    }
   ],
   "source": [
    "sns.displot(df.Age)"
   ]
  },
  {
   "cell_type": "markdown",
   "id": "addf0a34",
   "metadata": {},
   "source": [
    "We can't quite call the distribution even, so let's fill the missing fields with the median"
   ]
  },
  {
   "cell_type": "code",
   "execution_count": 7,
   "id": "214a58e5",
   "metadata": {},
   "outputs": [],
   "source": [
    "df['Age'] = df['Age'].fillna(df['Age'].median())"
   ]
  },
  {
   "cell_type": "markdown",
   "id": "66957a09",
   "metadata": {},
   "source": [
    "Let's look at the dataset now:"
   ]
  },
  {
   "cell_type": "code",
   "execution_count": 8,
   "id": "29e0f2d8",
   "metadata": {},
   "outputs": [
    {
     "data": {
      "text/html": [
       "<div>\n",
       "<style scoped>\n",
       "    .dataframe tbody tr th:only-of-type {\n",
       "        vertical-align: middle;\n",
       "    }\n",
       "\n",
       "    .dataframe tbody tr th {\n",
       "        vertical-align: top;\n",
       "    }\n",
       "\n",
       "    .dataframe thead th {\n",
       "        text-align: right;\n",
       "    }\n",
       "</style>\n",
       "<table border=\"1\" class=\"dataframe\">\n",
       "  <thead>\n",
       "    <tr style=\"text-align: right;\">\n",
       "      <th></th>\n",
       "      <th>Survived</th>\n",
       "      <th>Pclass</th>\n",
       "      <th>Name</th>\n",
       "      <th>Sex</th>\n",
       "      <th>Age</th>\n",
       "      <th>SibSp</th>\n",
       "      <th>Parch</th>\n",
       "      <th>Ticket</th>\n",
       "      <th>Fare</th>\n",
       "      <th>Embarked</th>\n",
       "    </tr>\n",
       "  </thead>\n",
       "  <tbody>\n",
       "    <tr>\n",
       "      <th>0</th>\n",
       "      <td>0</td>\n",
       "      <td>3</td>\n",
       "      <td>Braund, Mr. Owen Harris</td>\n",
       "      <td>male</td>\n",
       "      <td>22.0</td>\n",
       "      <td>1</td>\n",
       "      <td>0</td>\n",
       "      <td>A/5 21171</td>\n",
       "      <td>7.2500</td>\n",
       "      <td>S</td>\n",
       "    </tr>\n",
       "    <tr>\n",
       "      <th>1</th>\n",
       "      <td>1</td>\n",
       "      <td>1</td>\n",
       "      <td>Cumings, Mrs. John Bradley (Florence Briggs Th...</td>\n",
       "      <td>female</td>\n",
       "      <td>38.0</td>\n",
       "      <td>1</td>\n",
       "      <td>0</td>\n",
       "      <td>PC 17599</td>\n",
       "      <td>71.2833</td>\n",
       "      <td>C</td>\n",
       "    </tr>\n",
       "    <tr>\n",
       "      <th>2</th>\n",
       "      <td>1</td>\n",
       "      <td>3</td>\n",
       "      <td>Heikkinen, Miss. Laina</td>\n",
       "      <td>female</td>\n",
       "      <td>26.0</td>\n",
       "      <td>0</td>\n",
       "      <td>0</td>\n",
       "      <td>STON/O2. 3101282</td>\n",
       "      <td>7.9250</td>\n",
       "      <td>S</td>\n",
       "    </tr>\n",
       "    <tr>\n",
       "      <th>3</th>\n",
       "      <td>1</td>\n",
       "      <td>1</td>\n",
       "      <td>Futrelle, Mrs. Jacques Heath (Lily May Peel)</td>\n",
       "      <td>female</td>\n",
       "      <td>35.0</td>\n",
       "      <td>1</td>\n",
       "      <td>0</td>\n",
       "      <td>113803</td>\n",
       "      <td>53.1000</td>\n",
       "      <td>S</td>\n",
       "    </tr>\n",
       "    <tr>\n",
       "      <th>4</th>\n",
       "      <td>0</td>\n",
       "      <td>3</td>\n",
       "      <td>Allen, Mr. William Henry</td>\n",
       "      <td>male</td>\n",
       "      <td>35.0</td>\n",
       "      <td>0</td>\n",
       "      <td>0</td>\n",
       "      <td>373450</td>\n",
       "      <td>8.0500</td>\n",
       "      <td>S</td>\n",
       "    </tr>\n",
       "  </tbody>\n",
       "</table>\n",
       "</div>"
      ],
      "text/plain": [
       "   Survived  Pclass                                               Name   \n",
       "0         0       3                            Braund, Mr. Owen Harris  \\\n",
       "1         1       1  Cumings, Mrs. John Bradley (Florence Briggs Th...   \n",
       "2         1       3                             Heikkinen, Miss. Laina   \n",
       "3         1       1       Futrelle, Mrs. Jacques Heath (Lily May Peel)   \n",
       "4         0       3                           Allen, Mr. William Henry   \n",
       "\n",
       "      Sex   Age  SibSp  Parch            Ticket     Fare Embarked  \n",
       "0    male  22.0      1      0         A/5 21171   7.2500        S  \n",
       "1  female  38.0      1      0          PC 17599  71.2833        C  \n",
       "2  female  26.0      0      0  STON/O2. 3101282   7.9250        S  \n",
       "3  female  35.0      1      0            113803  53.1000        S  \n",
       "4    male  35.0      0      0            373450   8.0500        S  "
      ]
     },
     "execution_count": 8,
     "metadata": {},
     "output_type": "execute_result"
    }
   ],
   "source": [
    "df.head()"
   ]
  },
  {
   "cell_type": "markdown",
   "id": "34796e52",
   "metadata": {},
   "source": [
    "Let's ignore the 'Name' column for now and see how the model will do to decide if we'll need to try to engineer additional features based off of it (Mr., Mrs, Miss. one-hot columns for example)"
   ]
  },
  {
   "cell_type": "code",
   "execution_count": 9,
   "id": "a6fd4993",
   "metadata": {},
   "outputs": [],
   "source": [
    "df1 = df.drop(columns='Name', axis=1)"
   ]
  },
  {
   "cell_type": "markdown",
   "id": "4e5ac3fe",
   "metadata": {},
   "source": [
    "The 'Ticket' field is the ticket number so I will try to make the first model without using it"
   ]
  },
  {
   "cell_type": "code",
   "execution_count": 10,
   "id": "bd61d7a3",
   "metadata": {},
   "outputs": [],
   "source": [
    "df1.drop(columns='Ticket', axis=1, inplace=True)"
   ]
  },
  {
   "cell_type": "code",
   "execution_count": 11,
   "id": "5cf66471",
   "metadata": {},
   "outputs": [
    {
     "name": "stdout",
     "output_type": "stream",
     "text": [
      "     Survived  Pclass    Sex   Age  SibSp  Parch     Fare Embarked   \n",
      "0           0       3   True  22.0      1      0   7.2500        S  \\\n",
      "1           1       1  False  38.0      1      0  71.2833        C   \n",
      "2           1       3  False  26.0      0      0   7.9250        S   \n",
      "3           1       1  False  35.0      1      0  53.1000        S   \n",
      "4           0       3   True  35.0      0      0   8.0500        S   \n",
      "..        ...     ...    ...   ...    ...    ...      ...      ...   \n",
      "886         0       2   True  27.0      0      0  13.0000        S   \n",
      "887         1       1  False  19.0      0      0  30.0000        S   \n",
      "888         0       3  False  28.0      1      2  23.4500        S   \n",
      "889         1       1   True  26.0      0      0  30.0000        C   \n",
      "890         0       3   True  32.0      0      0   7.7500        Q   \n",
      "\n",
      "     Embarked_C  Embarked_Q  Embarked_S  \n",
      "0         False       False        True  \n",
      "1          True       False       False  \n",
      "2         False       False        True  \n",
      "3         False       False        True  \n",
      "4         False       False        True  \n",
      "..          ...         ...         ...  \n",
      "886       False       False        True  \n",
      "887       False       False        True  \n",
      "888       False       False        True  \n",
      "889        True       False       False  \n",
      "890       False        True       False  \n",
      "\n",
      "[891 rows x 11 columns]\n"
     ]
    }
   ],
   "source": [
    "# one-hot encode the 'Embarked' and 'Sex' columns\n",
    "df1['Sex'] = pd.get_dummies(df1['Sex'], drop_first=True)\n",
    "emb = pd.get_dummies(df1['Embarked'], prefix='Embarked')\n",
    "\n",
    "df1 = pd.concat([df1, emb], axis=1)\n",
    "print(df1)"
   ]
  },
  {
   "cell_type": "code",
   "execution_count": 12,
   "id": "cc1c9aeb",
   "metadata": {},
   "outputs": [
    {
     "name": "stdout",
     "output_type": "stream",
     "text": [
      "Survived        int64\n",
      "Pclass          int64\n",
      "Sex              bool\n",
      "Age           float64\n",
      "SibSp           int64\n",
      "Parch           int64\n",
      "Fare          float64\n",
      "Embarked       object\n",
      "Embarked_C       bool\n",
      "Embarked_Q       bool\n",
      "Embarked_S       bool\n",
      "dtype: object\n"
     ]
    }
   ],
   "source": [
    "# double-check the types\n",
    "print(df1.dtypes)"
   ]
  },
  {
   "cell_type": "markdown",
   "id": "0f3636a8",
   "metadata": {},
   "source": [
    "Time to make the cross validation and the train sets"
   ]
  },
  {
   "cell_type": "code",
   "execution_count": 13,
   "id": "29b90d5b",
   "metadata": {},
   "outputs": [],
   "source": [
    "# drop the original'Embarked' column\n",
    "df1.drop(columns='Embarked', axis=1, inplace=True)"
   ]
  },
  {
   "cell_type": "code",
   "execution_count": 14,
   "id": "a847166d",
   "metadata": {},
   "outputs": [],
   "source": [
    "Y = df1.pop('Survived')"
   ]
  },
  {
   "cell_type": "code",
   "execution_count": 15,
   "id": "6fedfd49",
   "metadata": {
    "scrolled": true
   },
   "outputs": [
    {
     "data": {
      "text/html": [
       "<style>#sk-container-id-1 {color: black;background-color: white;}#sk-container-id-1 pre{padding: 0;}#sk-container-id-1 div.sk-toggleable {background-color: white;}#sk-container-id-1 label.sk-toggleable__label {cursor: pointer;display: block;width: 100%;margin-bottom: 0;padding: 0.3em;box-sizing: border-box;text-align: center;}#sk-container-id-1 label.sk-toggleable__label-arrow:before {content: \"▸\";float: left;margin-right: 0.25em;color: #696969;}#sk-container-id-1 label.sk-toggleable__label-arrow:hover:before {color: black;}#sk-container-id-1 div.sk-estimator:hover label.sk-toggleable__label-arrow:before {color: black;}#sk-container-id-1 div.sk-toggleable__content {max-height: 0;max-width: 0;overflow: hidden;text-align: left;background-color: #f0f8ff;}#sk-container-id-1 div.sk-toggleable__content pre {margin: 0.2em;color: black;border-radius: 0.25em;background-color: #f0f8ff;}#sk-container-id-1 input.sk-toggleable__control:checked~div.sk-toggleable__content {max-height: 200px;max-width: 100%;overflow: auto;}#sk-container-id-1 input.sk-toggleable__control:checked~label.sk-toggleable__label-arrow:before {content: \"▾\";}#sk-container-id-1 div.sk-estimator input.sk-toggleable__control:checked~label.sk-toggleable__label {background-color: #d4ebff;}#sk-container-id-1 div.sk-label input.sk-toggleable__control:checked~label.sk-toggleable__label {background-color: #d4ebff;}#sk-container-id-1 input.sk-hidden--visually {border: 0;clip: rect(1px 1px 1px 1px);clip: rect(1px, 1px, 1px, 1px);height: 1px;margin: -1px;overflow: hidden;padding: 0;position: absolute;width: 1px;}#sk-container-id-1 div.sk-estimator {font-family: monospace;background-color: #f0f8ff;border: 1px dotted black;border-radius: 0.25em;box-sizing: border-box;margin-bottom: 0.5em;}#sk-container-id-1 div.sk-estimator:hover {background-color: #d4ebff;}#sk-container-id-1 div.sk-parallel-item::after {content: \"\";width: 100%;border-bottom: 1px solid gray;flex-grow: 1;}#sk-container-id-1 div.sk-label:hover label.sk-toggleable__label {background-color: #d4ebff;}#sk-container-id-1 div.sk-serial::before {content: \"\";position: absolute;border-left: 1px solid gray;box-sizing: border-box;top: 0;bottom: 0;left: 50%;z-index: 0;}#sk-container-id-1 div.sk-serial {display: flex;flex-direction: column;align-items: center;background-color: white;padding-right: 0.2em;padding-left: 0.2em;position: relative;}#sk-container-id-1 div.sk-item {position: relative;z-index: 1;}#sk-container-id-1 div.sk-parallel {display: flex;align-items: stretch;justify-content: center;background-color: white;position: relative;}#sk-container-id-1 div.sk-item::before, #sk-container-id-1 div.sk-parallel-item::before {content: \"\";position: absolute;border-left: 1px solid gray;box-sizing: border-box;top: 0;bottom: 0;left: 50%;z-index: -1;}#sk-container-id-1 div.sk-parallel-item {display: flex;flex-direction: column;z-index: 1;position: relative;background-color: white;}#sk-container-id-1 div.sk-parallel-item:first-child::after {align-self: flex-end;width: 50%;}#sk-container-id-1 div.sk-parallel-item:last-child::after {align-self: flex-start;width: 50%;}#sk-container-id-1 div.sk-parallel-item:only-child::after {width: 0;}#sk-container-id-1 div.sk-dashed-wrapped {border: 1px dashed gray;margin: 0 0.4em 0.5em 0.4em;box-sizing: border-box;padding-bottom: 0.4em;background-color: white;}#sk-container-id-1 div.sk-label label {font-family: monospace;font-weight: bold;display: inline-block;line-height: 1.2em;}#sk-container-id-1 div.sk-label-container {text-align: center;}#sk-container-id-1 div.sk-container {/* jupyter's `normalize.less` sets `[hidden] { display: none; }` but bootstrap.min.css set `[hidden] { display: none !important; }` so we also need the `!important` here to be able to override the default hidden behavior on the sphinx rendered scikit-learn.org. See: https://github.com/scikit-learn/scikit-learn/issues/21755 */display: inline-block !important;position: relative;}#sk-container-id-1 div.sk-text-repr-fallback {display: none;}</style><div id=\"sk-container-id-1\" class=\"sk-top-container\"><div class=\"sk-text-repr-fallback\"><pre>XGBClassifier(base_score=None, booster=None, callbacks=None,\n",
       "              colsample_bylevel=None, colsample_bynode=None,\n",
       "              colsample_bytree=None, early_stopping_rounds=None,\n",
       "              enable_categorical=False, eval_metric=None, feature_types=None,\n",
       "              gamma=None, gpu_id=None, grow_policy=None, importance_type=None,\n",
       "              interaction_constraints=None, learning_rate=None, max_bin=None,\n",
       "              max_cat_threshold=None, max_cat_to_onehot=None,\n",
       "              max_delta_step=None, max_depth=None, max_leaves=None,\n",
       "              min_child_weight=None, missing=nan, monotone_constraints=None,\n",
       "              n_estimators=100, n_jobs=None, num_parallel_tree=None,\n",
       "              predictor=None, random_state=None, ...)</pre><b>In a Jupyter environment, please rerun this cell to show the HTML representation or trust the notebook. <br />On GitHub, the HTML representation is unable to render, please try loading this page with nbviewer.org.</b></div><div class=\"sk-container\" hidden><div class=\"sk-item\"><div class=\"sk-estimator sk-toggleable\"><input class=\"sk-toggleable__control sk-hidden--visually\" id=\"sk-estimator-id-1\" type=\"checkbox\" checked><label for=\"sk-estimator-id-1\" class=\"sk-toggleable__label sk-toggleable__label-arrow\">XGBClassifier</label><div class=\"sk-toggleable__content\"><pre>XGBClassifier(base_score=None, booster=None, callbacks=None,\n",
       "              colsample_bylevel=None, colsample_bynode=None,\n",
       "              colsample_bytree=None, early_stopping_rounds=None,\n",
       "              enable_categorical=False, eval_metric=None, feature_types=None,\n",
       "              gamma=None, gpu_id=None, grow_policy=None, importance_type=None,\n",
       "              interaction_constraints=None, learning_rate=None, max_bin=None,\n",
       "              max_cat_threshold=None, max_cat_to_onehot=None,\n",
       "              max_delta_step=None, max_depth=None, max_leaves=None,\n",
       "              min_child_weight=None, missing=nan, monotone_constraints=None,\n",
       "              n_estimators=100, n_jobs=None, num_parallel_tree=None,\n",
       "              predictor=None, random_state=None, ...)</pre></div></div></div></div></div>"
      ],
      "text/plain": [
       "XGBClassifier(base_score=None, booster=None, callbacks=None,\n",
       "              colsample_bylevel=None, colsample_bynode=None,\n",
       "              colsample_bytree=None, early_stopping_rounds=None,\n",
       "              enable_categorical=False, eval_metric=None, feature_types=None,\n",
       "              gamma=None, gpu_id=None, grow_policy=None, importance_type=None,\n",
       "              interaction_constraints=None, learning_rate=None, max_bin=None,\n",
       "              max_cat_threshold=None, max_cat_to_onehot=None,\n",
       "              max_delta_step=None, max_depth=None, max_leaves=None,\n",
       "              min_child_weight=None, missing=nan, monotone_constraints=None,\n",
       "              n_estimators=100, n_jobs=None, num_parallel_tree=None,\n",
       "              predictor=None, random_state=None, ...)"
      ]
     },
     "execution_count": 15,
     "metadata": {},
     "output_type": "execute_result"
    }
   ],
   "source": [
    "model = XGBClassifier()\n",
    "\n",
    "model.fit(np.array(df1), np.array(Y))"
   ]
  },
  {
   "cell_type": "code",
   "execution_count": 16,
   "id": "667ce737",
   "metadata": {},
   "outputs": [],
   "source": [
    "X_test = pd.read_csv('Data/test.csv')\n",
    "\n",
    "X_test.drop(columns=['Name', 'Ticket'], axis=1, inplace=True)\n",
    "\n",
    "X_test['Sex'] = pd.get_dummies(X_test['Sex'], drop_first=True)\n",
    "emb_test = pd.get_dummies(X_test['Embarked'], prefix='Embarked')\n",
    "\n",
    "X_test = pd.concat([X_test, emb_test], axis=1)\n",
    "\n",
    "X_test.drop(columns=['Cabin', 'Embarked', 'PassengerId'], axis=1, inplace=True)\n",
    "\n",
    "\n"
   ]
  },
  {
   "cell_type": "code",
   "execution_count": 17,
   "id": "ca4eddf6",
   "metadata": {},
   "outputs": [],
   "source": [
    "X_test['Age'] = X_test['Age'].fillna(X_test['Age'].median())\n"
   ]
  },
  {
   "cell_type": "code",
   "execution_count": 18,
   "id": "bd4d0f6c",
   "metadata": {},
   "outputs": [],
   "source": [
    "y_test = model.predict(X_test)"
   ]
  },
  {
   "cell_type": "markdown",
   "id": "bb52ef75",
   "metadata": {},
   "source": [
    "Now let's see how the model did by making submissions:"
   ]
  },
  {
   "cell_type": "code",
   "execution_count": 21,
   "id": "609885fb",
   "metadata": {},
   "outputs": [
    {
     "name": "stdout",
     "output_type": "stream",
     "text": [
      "     PassengerId  Survived\n",
      "0            892         0\n",
      "1            893         0\n",
      "2            894         0\n",
      "3            895         0\n",
      "4            896         1\n",
      "..           ...       ...\n",
      "413         1305         0\n",
      "414         1306         1\n",
      "415         1307         0\n",
      "416         1308         0\n",
      "417         1309         1\n",
      "\n",
      "[418 rows x 2 columns]\n"
     ]
    }
   ],
   "source": [
    "sub = pd.read_csv('Data/gender_submission.csv')\n",
    "\n",
    "submission_df = pd.DataFrame({\n",
    "    'PassengerId': sub.PassengerId,\n",
    "    'Survived': y_test\n",
    "})\n",
    "\n",
    "submission_df.to_csv('Data/gender_submission.csv', index=False)"
   ]
  },
  {
   "cell_type": "markdown",
   "id": "4c6d066f",
   "metadata": {},
   "source": [
    "### Accuracy on test set: 0.72727"
   ]
  }
 ],
 "metadata": {
  "kernelspec": {
   "display_name": "Python 3 (ipykernel)",
   "language": "python",
   "name": "python3"
  },
  "language_info": {
   "codemirror_mode": {
    "name": "ipython",
    "version": 3
   },
   "file_extension": ".py",
   "mimetype": "text/x-python",
   "name": "python",
   "nbconvert_exporter": "python",
   "pygments_lexer": "ipython3",
   "version": "3.11.2"
  }
 },
 "nbformat": 4,
 "nbformat_minor": 5
}
